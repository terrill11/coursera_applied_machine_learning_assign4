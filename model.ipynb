{
 "cells": [
  {
   "cell_type": "code",
   "execution_count": 1,
   "metadata": {},
   "outputs": [],
   "source": [
    "import pandas as pd\n",
    "import numpy as np\n",
    "import matplotlib.pyplot as plt\n",
    "%matplotlib notebook"
   ]
  },
  {
   "cell_type": "code",
   "execution_count": 2,
   "metadata": {},
   "outputs": [
    {
     "data": {
      "text/html": [
       "<div>\n",
       "<style scoped>\n",
       "    .dataframe tbody tr th:only-of-type {\n",
       "        vertical-align: middle;\n",
       "    }\n",
       "\n",
       "    .dataframe tbody tr th {\n",
       "        vertical-align: top;\n",
       "    }\n",
       "\n",
       "    .dataframe thead th {\n",
       "        text-align: right;\n",
       "    }\n",
       "</style>\n",
       "<table border=\"1\" class=\"dataframe\">\n",
       "  <thead>\n",
       "    <tr style=\"text-align: right;\">\n",
       "      <th></th>\n",
       "      <th>ticket_id</th>\n",
       "      <th>agency_name</th>\n",
       "      <th>inspector_name</th>\n",
       "      <th>violator_name</th>\n",
       "      <th>violation_street_number</th>\n",
       "      <th>violation_street_name</th>\n",
       "      <th>violation_zip_code</th>\n",
       "      <th>mailing_address_str_number</th>\n",
       "      <th>mailing_address_str_name</th>\n",
       "      <th>city</th>\n",
       "      <th>...</th>\n",
       "      <th>violation_description</th>\n",
       "      <th>disposition</th>\n",
       "      <th>fine_amount</th>\n",
       "      <th>admin_fee</th>\n",
       "      <th>state_fee</th>\n",
       "      <th>late_fee</th>\n",
       "      <th>discount_amount</th>\n",
       "      <th>clean_up_cost</th>\n",
       "      <th>judgment_amount</th>\n",
       "      <th>grafitti_status</th>\n",
       "    </tr>\n",
       "  </thead>\n",
       "  <tbody>\n",
       "    <tr>\n",
       "      <th>0</th>\n",
       "      <td>284932</td>\n",
       "      <td>Department of Public Works</td>\n",
       "      <td>Granberry, Aisha B</td>\n",
       "      <td>FLUELLEN, JOHN A</td>\n",
       "      <td>10041.0</td>\n",
       "      <td>ROSEBERRY</td>\n",
       "      <td>NaN</td>\n",
       "      <td>141</td>\n",
       "      <td>ROSEBERRY</td>\n",
       "      <td>DETROIT</td>\n",
       "      <td>...</td>\n",
       "      <td>Failure to secure City or Private solid waste ...</td>\n",
       "      <td>Responsible by Default</td>\n",
       "      <td>200.0</td>\n",
       "      <td>20.0</td>\n",
       "      <td>10.0</td>\n",
       "      <td>20.0</td>\n",
       "      <td>0.0</td>\n",
       "      <td>0.0</td>\n",
       "      <td>250.0</td>\n",
       "      <td>NaN</td>\n",
       "    </tr>\n",
       "    <tr>\n",
       "      <th>1</th>\n",
       "      <td>285362</td>\n",
       "      <td>Department of Public Works</td>\n",
       "      <td>Lusk, Gertrina</td>\n",
       "      <td>WHIGHAM, THELMA</td>\n",
       "      <td>18520.0</td>\n",
       "      <td>EVERGREEN</td>\n",
       "      <td>NaN</td>\n",
       "      <td>19136</td>\n",
       "      <td>GLASTONBURY</td>\n",
       "      <td>DETROIT</td>\n",
       "      <td>...</td>\n",
       "      <td>Allowing bulk solid waste to lie or accumulate...</td>\n",
       "      <td>Responsible by Default</td>\n",
       "      <td>1000.0</td>\n",
       "      <td>20.0</td>\n",
       "      <td>10.0</td>\n",
       "      <td>100.0</td>\n",
       "      <td>0.0</td>\n",
       "      <td>0.0</td>\n",
       "      <td>1130.0</td>\n",
       "      <td>NaN</td>\n",
       "    </tr>\n",
       "    <tr>\n",
       "      <th>2</th>\n",
       "      <td>285361</td>\n",
       "      <td>Department of Public Works</td>\n",
       "      <td>Lusk, Gertrina</td>\n",
       "      <td>WHIGHAM, THELMA</td>\n",
       "      <td>18520.0</td>\n",
       "      <td>EVERGREEN</td>\n",
       "      <td>NaN</td>\n",
       "      <td>19136</td>\n",
       "      <td>GLASTONBURY</td>\n",
       "      <td>DETROIT</td>\n",
       "      <td>...</td>\n",
       "      <td>Improper placement of Courville container betw...</td>\n",
       "      <td>Responsible by Default</td>\n",
       "      <td>100.0</td>\n",
       "      <td>20.0</td>\n",
       "      <td>10.0</td>\n",
       "      <td>10.0</td>\n",
       "      <td>0.0</td>\n",
       "      <td>0.0</td>\n",
       "      <td>140.0</td>\n",
       "      <td>NaN</td>\n",
       "    </tr>\n",
       "    <tr>\n",
       "      <th>3</th>\n",
       "      <td>285338</td>\n",
       "      <td>Department of Public Works</td>\n",
       "      <td>Talbert, Reginald</td>\n",
       "      <td>HARABEDIEN, POPKIN</td>\n",
       "      <td>1835.0</td>\n",
       "      <td>CENTRAL</td>\n",
       "      <td>NaN</td>\n",
       "      <td>2246</td>\n",
       "      <td>NELSON</td>\n",
       "      <td>WOODHAVEN</td>\n",
       "      <td>...</td>\n",
       "      <td>Allowing bulk solid waste to lie or accumulate...</td>\n",
       "      <td>Responsible by Default</td>\n",
       "      <td>200.0</td>\n",
       "      <td>20.0</td>\n",
       "      <td>10.0</td>\n",
       "      <td>20.0</td>\n",
       "      <td>0.0</td>\n",
       "      <td>0.0</td>\n",
       "      <td>250.0</td>\n",
       "      <td>NaN</td>\n",
       "    </tr>\n",
       "    <tr>\n",
       "      <th>4</th>\n",
       "      <td>285346</td>\n",
       "      <td>Department of Public Works</td>\n",
       "      <td>Talbert, Reginald</td>\n",
       "      <td>CORBELL, STANLEY</td>\n",
       "      <td>1700.0</td>\n",
       "      <td>CENTRAL</td>\n",
       "      <td>NaN</td>\n",
       "      <td>3435</td>\n",
       "      <td>MUNGER</td>\n",
       "      <td>LIVONIA</td>\n",
       "      <td>...</td>\n",
       "      <td>Violation of time limit for approved container...</td>\n",
       "      <td>Responsible by Default</td>\n",
       "      <td>100.0</td>\n",
       "      <td>20.0</td>\n",
       "      <td>10.0</td>\n",
       "      <td>10.0</td>\n",
       "      <td>0.0</td>\n",
       "      <td>0.0</td>\n",
       "      <td>140.0</td>\n",
       "      <td>NaN</td>\n",
       "    </tr>\n",
       "  </tbody>\n",
       "</table>\n",
       "<p>5 rows × 27 columns</p>\n",
       "</div>"
      ],
      "text/plain": [
       "   ticket_id                 agency_name      inspector_name  \\\n",
       "0     284932  Department of Public Works  Granberry, Aisha B   \n",
       "1     285362  Department of Public Works      Lusk, Gertrina   \n",
       "2     285361  Department of Public Works      Lusk, Gertrina   \n",
       "3     285338  Department of Public Works   Talbert, Reginald   \n",
       "4     285346  Department of Public Works   Talbert, Reginald   \n",
       "\n",
       "        violator_name  violation_street_number violation_street_name  \\\n",
       "0    FLUELLEN, JOHN A                  10041.0             ROSEBERRY   \n",
       "1     WHIGHAM, THELMA                  18520.0             EVERGREEN   \n",
       "2     WHIGHAM, THELMA                  18520.0             EVERGREEN   \n",
       "3  HARABEDIEN, POPKIN                   1835.0               CENTRAL   \n",
       "4    CORBELL, STANLEY                   1700.0               CENTRAL   \n",
       "\n",
       "  violation_zip_code mailing_address_str_number mailing_address_str_name  \\\n",
       "0                NaN                        141                ROSEBERRY   \n",
       "1                NaN                      19136              GLASTONBURY   \n",
       "2                NaN                      19136              GLASTONBURY   \n",
       "3                NaN                       2246                   NELSON   \n",
       "4                NaN                       3435                   MUNGER   \n",
       "\n",
       "        city       ...         \\\n",
       "0    DETROIT       ...          \n",
       "1    DETROIT       ...          \n",
       "2    DETROIT       ...          \n",
       "3  WOODHAVEN       ...          \n",
       "4    LIVONIA       ...          \n",
       "\n",
       "                               violation_description             disposition  \\\n",
       "0  Failure to secure City or Private solid waste ...  Responsible by Default   \n",
       "1  Allowing bulk solid waste to lie or accumulate...  Responsible by Default   \n",
       "2  Improper placement of Courville container betw...  Responsible by Default   \n",
       "3  Allowing bulk solid waste to lie or accumulate...  Responsible by Default   \n",
       "4  Violation of time limit for approved container...  Responsible by Default   \n",
       "\n",
       "   fine_amount admin_fee state_fee late_fee discount_amount clean_up_cost  \\\n",
       "0        200.0      20.0      10.0     20.0             0.0           0.0   \n",
       "1       1000.0      20.0      10.0    100.0             0.0           0.0   \n",
       "2        100.0      20.0      10.0     10.0             0.0           0.0   \n",
       "3        200.0      20.0      10.0     20.0             0.0           0.0   \n",
       "4        100.0      20.0      10.0     10.0             0.0           0.0   \n",
       "\n",
       "  judgment_amount  grafitti_status  \n",
       "0           250.0              NaN  \n",
       "1          1130.0              NaN  \n",
       "2           140.0              NaN  \n",
       "3           250.0              NaN  \n",
       "4           140.0              NaN  \n",
       "\n",
       "[5 rows x 27 columns]"
      ]
     },
     "execution_count": 2,
     "metadata": {},
     "output_type": "execute_result"
    }
   ],
   "source": [
    "train_df = pd.read_csv('train.csv', encoding='windows-1252', low_memory=False)\n",
    "test_df = pd.read_csv('test.csv')\n",
    "\n",
    "train_df.head()\n",
    "test_df.head()"
   ]
  },
  {
   "cell_type": "code",
   "execution_count": 3,
   "metadata": {},
   "outputs": [
    {
     "data": {
      "text/plain": [
       "((250306, 34), (61001, 27))"
      ]
     },
     "execution_count": 3,
     "metadata": {},
     "output_type": "execute_result"
    }
   ],
   "source": [
    "train_df.shape, test_df.shape"
   ]
  },
  {
   "cell_type": "markdown",
   "metadata": {},
   "source": [
    "<h2>Initial Cleaning</h2>\n",
    "<br>\n",
    "For the assignment, all violators that were found not responsible are not being considered in this evaluation.\n",
    "    <ul>- Violators that are found not responsible will have NaN in compliance</ul>\n",
    "<br>\n",
    "Extra columns were also provided in training dataframe for reference but should not be considered in evaluation as well."
   ]
  },
  {
   "cell_type": "code",
   "execution_count": 4,
   "metadata": {},
   "outputs": [],
   "source": [
    "extra_cols = ['payment_amount','payment_date','payment_status','balance_due','collection_status','compliance_detail']\n",
    "useless_cols = ['violation_street_name', 'mailing_address_str_name', 'country', 'violation_description',\\\n",
    "                'inspector_name', 'violator_name', 'grafitti_status', 'non_us_str_code']\n",
    "train_df.drop(extra_cols, axis=1, inplace=True)\n",
    "train_df.drop(useless_cols, axis=1, inplace=True)\n",
    "train_df.dropna(subset=['compliance'], inplace=True)"
   ]
  },
  {
   "cell_type": "code",
   "execution_count": 5,
   "metadata": {},
   "outputs": [],
   "source": [
    "# dropping useless columns in test dataframe as well\n",
    "test_df.drop(useless_cols, axis=1, inplace=True)"
   ]
  },
  {
   "cell_type": "markdown",
   "metadata": {},
   "source": [
    "<h3>Counting distribution of target</h3>"
   ]
  },
  {
   "cell_type": "code",
   "execution_count": 6,
   "metadata": {},
   "outputs": [
    {
     "data": {
      "text/plain": [
       "0.0    148283\n",
       "1.0     11597\n",
       "Name: compliance, dtype: int64"
      ]
     },
     "execution_count": 6,
     "metadata": {},
     "output_type": "execute_result"
    }
   ],
   "source": [
    "train_df['compliance'].value_counts()"
   ]
  },
  {
   "cell_type": "markdown",
   "metadata": {},
   "source": [
    "<h3>Counting Nulls</h3>"
   ]
  },
  {
   "cell_type": "code",
   "execution_count": 7,
   "metadata": {},
   "outputs": [
    {
     "data": {
      "text/plain": [
       "violation_zip_code            159880\n",
       "mailing_address_str_number      2558\n",
       "hearing_date                     227\n",
       "state                             84\n",
       "zip_code                           1\n",
       "judgment_amount                    0\n",
       "agency_name                        0\n",
       "violation_street_number            0\n",
       "city                               0\n",
       "ticket_issued_date                 0\n",
       "compliance                         0\n",
       "violation_code                     0\n",
       "disposition                        0\n",
       "fine_amount                        0\n",
       "admin_fee                          0\n",
       "state_fee                          0\n",
       "late_fee                           0\n",
       "discount_amount                    0\n",
       "clean_up_cost                      0\n",
       "ticket_id                          0\n",
       "dtype: int64"
      ]
     },
     "execution_count": 7,
     "metadata": {},
     "output_type": "execute_result"
    }
   ],
   "source": [
    "train_df.isnull().sum().sort_values(ascending=False)\n",
    "\n",
    "# a lot more of nulls in hearing dates were remove when removing target nulls"
   ]
  },
  {
   "cell_type": "markdown",
   "metadata": {},
   "source": [
    "<h3>Column Types</h3>"
   ]
  },
  {
   "cell_type": "code",
   "execution_count": 8,
   "metadata": {},
   "outputs": [
    {
     "data": {
      "text/plain": [
       "float64    11\n",
       "object      8\n",
       "int64       1\n",
       "dtype: int64"
      ]
     },
     "execution_count": 8,
     "metadata": {},
     "output_type": "execute_result"
    }
   ],
   "source": [
    "train_df.dtypes.value_counts()"
   ]
  },
  {
   "cell_type": "markdown",
   "metadata": {},
   "source": [
    "<h3>Counts of unique values for categorical columns</h3>"
   ]
  },
  {
   "cell_type": "code",
   "execution_count": 9,
   "metadata": {},
   "outputs": [
    {
     "data": {
      "text/plain": [
       "ticket_issued_date    68097\n",
       "hearing_date           5970\n",
       "city                   4093\n",
       "zip_code               3498\n",
       "violation_code          189\n",
       "state                    59\n",
       "agency_name               5\n",
       "disposition               4\n",
       "dtype: int64"
      ]
     },
     "execution_count": 9,
     "metadata": {},
     "output_type": "execute_result"
    }
   ],
   "source": [
    "train_df.select_dtypes('object').apply(pd.Series.nunique, axis=0).sort_values(ascending=False)"
   ]
  },
  {
   "cell_type": "markdown",
   "metadata": {},
   "source": [
    "<h3>Dealing with dates</h3>\n",
    "<br>Date part the datetime columns</br>\n",
    "<br>Get difference between ticket_issued_date & hearing_date (use this for transformation)</br>"
   ]
  },
  {
   "cell_type": "code",
   "execution_count": 10,
   "metadata": {},
   "outputs": [],
   "source": [
    "from datetime import datetime\n",
    "\n",
    "#train data\n",
    "train_df['hearing_issue_date_diff'] = (train_df['hearing_date'].astype('datetime64') -\\\n",
    "                                    train_df['ticket_issued_date'].astype('datetime64')).dt.days\n",
    "train_df = train_df[train_df['hearing_issue_date_diff'] >= 0]\n",
    "\n",
    "#test data\n",
    "test_df['hearing_issue_date_diff'] = (test_df['hearing_date'].astype('datetime64') -\\\n",
    "                                    test_df['ticket_issued_date'].astype('datetime64')).dt.days\n",
    "test_df = test_df[test_df['hearing_issue_date_diff'] >= 0]\n",
    "#train_df['hearing_issue_date_diff'].head()"
   ]
  },
  {
   "cell_type": "markdown",
   "metadata": {},
   "source": [
    "<h3>Dropping location columns for the sake of simplicity.\n",
    "Dropping violation_code for now and get baseline results. May add it back into columns if needed.</h3>\n",
    "\n",
    "For violation_code maybe only include violations with occurances above the mean of count"
   ]
  },
  {
   "cell_type": "code",
   "execution_count": 11,
   "metadata": {},
   "outputs": [],
   "source": [
    "train_df.drop(['ticket_issued_date','hearing_date','city','zip_code','violation_code','state'], axis=1, inplace=True)\n",
    "test_df.drop(['ticket_issued_date','hearing_date','city','zip_code','violation_code','state'], axis=1, inplace=True)"
   ]
  },
  {
   "cell_type": "markdown",
   "metadata": {},
   "source": [
    "<h3>Dropping remaining location columns. Added benefit of removing columns with high number of null values to simplify further</h3>"
   ]
  },
  {
   "cell_type": "code",
   "execution_count": 12,
   "metadata": {},
   "outputs": [
    {
     "data": {
      "text/plain": [
       "((159573, 13), (58695, 12))"
      ]
     },
     "execution_count": 12,
     "metadata": {},
     "output_type": "execute_result"
    }
   ],
   "source": [
    "train_df.drop(['violation_zip_code', 'mailing_address_str_number'], axis=1, inplace=True)\n",
    "test_df.drop(['violation_zip_code', 'mailing_address_str_number'], axis=1, inplace=True)\n",
    "\n",
    "train_df.shape, test_df.shape"
   ]
  },
  {
   "cell_type": "markdown",
   "metadata": {},
   "source": [
    "<h3>Note: Categorical variables in 'agency_name' and 'disposition' columns in train and test data do not align</h3>"
   ]
  },
  {
   "cell_type": "code",
   "execution_count": 13,
   "metadata": {},
   "outputs": [
    {
     "name": "stdout",
     "output_type": "stream",
     "text": [
      "agency_name    5\n",
      "disposition    4\n",
      "dtype: int64\n",
      "disposition    8\n",
      "agency_name    3\n",
      "dtype: int64\n"
     ]
    }
   ],
   "source": [
    "print(train_df.select_dtypes('object').apply(pd.Series.nunique, axis=0).sort_values(ascending=False))\n",
    "print(test_df.select_dtypes('object').apply(pd.Series.nunique, axis=0).sort_values(ascending=False))"
   ]
  },
  {
   "cell_type": "code",
   "execution_count": 14,
   "metadata": {},
   "outputs": [],
   "source": [
    "train_df = pd.get_dummies(train_df)\n",
    "test_df = pd.get_dummies(test_df)"
   ]
  },
  {
   "cell_type": "markdown",
   "metadata": {},
   "source": [
    "<h3>Aligning training and testing data</h3>"
   ]
  },
  {
   "cell_type": "code",
   "execution_count": 15,
   "metadata": {},
   "outputs": [
    {
     "data": {
      "text/plain": [
       "((159573, 18), (58695, 17))"
      ]
     },
     "execution_count": 15,
     "metadata": {},
     "output_type": "execute_result"
    }
   ],
   "source": [
    "train_labels = train_df['compliance']\n",
    "\n",
    "train_df, test_df = train_df.align(test_df, join='inner', axis=1)\n",
    "train_df['compliance'] = train_labels\n",
    "\n",
    "train_df.shape, test_df.shape"
   ]
  },
  {
   "cell_type": "markdown",
   "metadata": {},
   "source": [
    "<h3>Reviewing Anomalies</h3>"
   ]
  },
  {
   "cell_type": "code",
   "execution_count": 16,
   "metadata": {},
   "outputs": [
    {
     "data": {
      "text/html": [
       "<div>\n",
       "<style scoped>\n",
       "    .dataframe tbody tr th:only-of-type {\n",
       "        vertical-align: middle;\n",
       "    }\n",
       "\n",
       "    .dataframe tbody tr th {\n",
       "        vertical-align: top;\n",
       "    }\n",
       "\n",
       "    .dataframe thead th {\n",
       "        text-align: right;\n",
       "    }\n",
       "</style>\n",
       "<table border=\"1\" class=\"dataframe\">\n",
       "  <thead>\n",
       "    <tr style=\"text-align: right;\">\n",
       "      <th></th>\n",
       "      <th>ticket_id</th>\n",
       "      <th>violation_street_number</th>\n",
       "      <th>fine_amount</th>\n",
       "      <th>admin_fee</th>\n",
       "      <th>state_fee</th>\n",
       "      <th>late_fee</th>\n",
       "      <th>discount_amount</th>\n",
       "      <th>clean_up_cost</th>\n",
       "      <th>judgment_amount</th>\n",
       "      <th>hearing_issue_date_diff</th>\n",
       "      <th>agency_name_Buildings, Safety Engineering &amp; Env Department</th>\n",
       "      <th>agency_name_Department of Public Works</th>\n",
       "      <th>agency_name_Detroit Police Department</th>\n",
       "      <th>disposition_Responsible (Fine Waived) by Deter</th>\n",
       "      <th>disposition_Responsible by Admission</th>\n",
       "      <th>disposition_Responsible by Default</th>\n",
       "      <th>disposition_Responsible by Determination</th>\n",
       "      <th>compliance</th>\n",
       "    </tr>\n",
       "  </thead>\n",
       "  <tbody>\n",
       "    <tr>\n",
       "      <th>count</th>\n",
       "      <td>159573.000000</td>\n",
       "      <td>1.595730e+05</td>\n",
       "      <td>159573.000000</td>\n",
       "      <td>159573.0</td>\n",
       "      <td>159573.0</td>\n",
       "      <td>159573.000000</td>\n",
       "      <td>159573.000000</td>\n",
       "      <td>159573.0</td>\n",
       "      <td>159573.000000</td>\n",
       "      <td>159573.000000</td>\n",
       "      <td>159573.000000</td>\n",
       "      <td>159573.000000</td>\n",
       "      <td>159573.000000</td>\n",
       "      <td>159573.000000</td>\n",
       "      <td>159573.000000</td>\n",
       "      <td>159573.000000</td>\n",
       "      <td>159573.000000</td>\n",
       "      <td>159573.000000</td>\n",
       "    </tr>\n",
       "    <tr>\n",
       "      <th>mean</th>\n",
       "      <td>150410.866914</td>\n",
       "      <td>1.071450e+04</td>\n",
       "      <td>356.856755</td>\n",
       "      <td>20.0</td>\n",
       "      <td>10.0</td>\n",
       "      <td>33.664742</td>\n",
       "      <td>0.167384</td>\n",
       "      <td>0.0</td>\n",
       "      <td>420.486152</td>\n",
       "      <td>72.749387</td>\n",
       "      <td>0.600008</td>\n",
       "      <td>0.327555</td>\n",
       "      <td>0.027950</td>\n",
       "      <td>0.001178</td>\n",
       "      <td>0.085578</td>\n",
       "      <td>0.865848</td>\n",
       "      <td>0.047395</td>\n",
       "      <td>0.071585</td>\n",
       "    </tr>\n",
       "    <tr>\n",
       "      <th>std</th>\n",
       "      <td>77211.873052</td>\n",
       "      <td>3.626543e+04</td>\n",
       "      <td>675.672888</td>\n",
       "      <td>0.0</td>\n",
       "      <td>0.0</td>\n",
       "      <td>67.704086</td>\n",
       "      <td>3.960415</td>\n",
       "      <td>0.0</td>\n",
       "      <td>742.605232</td>\n",
       "      <td>62.451159</td>\n",
       "      <td>0.489898</td>\n",
       "      <td>0.469323</td>\n",
       "      <td>0.164829</td>\n",
       "      <td>0.034304</td>\n",
       "      <td>0.279741</td>\n",
       "      <td>0.340816</td>\n",
       "      <td>0.212483</td>\n",
       "      <td>0.257800</td>\n",
       "    </tr>\n",
       "    <tr>\n",
       "      <th>min</th>\n",
       "      <td>18645.000000</td>\n",
       "      <td>0.000000e+00</td>\n",
       "      <td>0.000000</td>\n",
       "      <td>20.0</td>\n",
       "      <td>10.0</td>\n",
       "      <td>0.000000</td>\n",
       "      <td>0.000000</td>\n",
       "      <td>0.0</td>\n",
       "      <td>0.000000</td>\n",
       "      <td>0.000000</td>\n",
       "      <td>0.000000</td>\n",
       "      <td>0.000000</td>\n",
       "      <td>0.000000</td>\n",
       "      <td>0.000000</td>\n",
       "      <td>0.000000</td>\n",
       "      <td>0.000000</td>\n",
       "      <td>0.000000</td>\n",
       "      <td>0.000000</td>\n",
       "    </tr>\n",
       "    <tr>\n",
       "      <th>25%</th>\n",
       "      <td>83332.000000</td>\n",
       "      <td>4.920000e+03</td>\n",
       "      <td>200.000000</td>\n",
       "      <td>20.0</td>\n",
       "      <td>10.0</td>\n",
       "      <td>10.000000</td>\n",
       "      <td>0.000000</td>\n",
       "      <td>0.0</td>\n",
       "      <td>250.000000</td>\n",
       "      <td>31.000000</td>\n",
       "      <td>0.000000</td>\n",
       "      <td>0.000000</td>\n",
       "      <td>0.000000</td>\n",
       "      <td>0.000000</td>\n",
       "      <td>0.000000</td>\n",
       "      <td>1.000000</td>\n",
       "      <td>0.000000</td>\n",
       "      <td>0.000000</td>\n",
       "    </tr>\n",
       "    <tr>\n",
       "      <th>50%</th>\n",
       "      <td>149731.000000</td>\n",
       "      <td>1.039900e+04</td>\n",
       "      <td>250.000000</td>\n",
       "      <td>20.0</td>\n",
       "      <td>10.0</td>\n",
       "      <td>25.000000</td>\n",
       "      <td>0.000000</td>\n",
       "      <td>0.0</td>\n",
       "      <td>305.000000</td>\n",
       "      <td>54.000000</td>\n",
       "      <td>1.000000</td>\n",
       "      <td>0.000000</td>\n",
       "      <td>0.000000</td>\n",
       "      <td>0.000000</td>\n",
       "      <td>0.000000</td>\n",
       "      <td>1.000000</td>\n",
       "      <td>0.000000</td>\n",
       "      <td>0.000000</td>\n",
       "    </tr>\n",
       "    <tr>\n",
       "      <th>75%</th>\n",
       "      <td>217403.000000</td>\n",
       "      <td>1.578500e+04</td>\n",
       "      <td>250.000000</td>\n",
       "      <td>20.0</td>\n",
       "      <td>10.0</td>\n",
       "      <td>25.000000</td>\n",
       "      <td>0.000000</td>\n",
       "      <td>0.0</td>\n",
       "      <td>305.000000</td>\n",
       "      <td>100.000000</td>\n",
       "      <td>1.000000</td>\n",
       "      <td>1.000000</td>\n",
       "      <td>0.000000</td>\n",
       "      <td>0.000000</td>\n",
       "      <td>0.000000</td>\n",
       "      <td>1.000000</td>\n",
       "      <td>0.000000</td>\n",
       "      <td>0.000000</td>\n",
       "    </tr>\n",
       "    <tr>\n",
       "      <th>max</th>\n",
       "      <td>299363.000000</td>\n",
       "      <td>1.415411e+07</td>\n",
       "      <td>10000.000000</td>\n",
       "      <td>20.0</td>\n",
       "      <td>10.0</td>\n",
       "      <td>1000.000000</td>\n",
       "      <td>350.000000</td>\n",
       "      <td>0.0</td>\n",
       "      <td>11030.000000</td>\n",
       "      <td>7933.000000</td>\n",
       "      <td>1.000000</td>\n",
       "      <td>1.000000</td>\n",
       "      <td>1.000000</td>\n",
       "      <td>1.000000</td>\n",
       "      <td>1.000000</td>\n",
       "      <td>1.000000</td>\n",
       "      <td>1.000000</td>\n",
       "      <td>1.000000</td>\n",
       "    </tr>\n",
       "  </tbody>\n",
       "</table>\n",
       "</div>"
      ],
      "text/plain": [
       "           ticket_id  violation_street_number    fine_amount  admin_fee  \\\n",
       "count  159573.000000             1.595730e+05  159573.000000   159573.0   \n",
       "mean   150410.866914             1.071450e+04     356.856755       20.0   \n",
       "std     77211.873052             3.626543e+04     675.672888        0.0   \n",
       "min     18645.000000             0.000000e+00       0.000000       20.0   \n",
       "25%     83332.000000             4.920000e+03     200.000000       20.0   \n",
       "50%    149731.000000             1.039900e+04     250.000000       20.0   \n",
       "75%    217403.000000             1.578500e+04     250.000000       20.0   \n",
       "max    299363.000000             1.415411e+07   10000.000000       20.0   \n",
       "\n",
       "       state_fee       late_fee  discount_amount  clean_up_cost  \\\n",
       "count   159573.0  159573.000000    159573.000000       159573.0   \n",
       "mean        10.0      33.664742         0.167384            0.0   \n",
       "std          0.0      67.704086         3.960415            0.0   \n",
       "min         10.0       0.000000         0.000000            0.0   \n",
       "25%         10.0      10.000000         0.000000            0.0   \n",
       "50%         10.0      25.000000         0.000000            0.0   \n",
       "75%         10.0      25.000000         0.000000            0.0   \n",
       "max         10.0    1000.000000       350.000000            0.0   \n",
       "\n",
       "       judgment_amount  hearing_issue_date_diff  \\\n",
       "count    159573.000000            159573.000000   \n",
       "mean        420.486152                72.749387   \n",
       "std         742.605232                62.451159   \n",
       "min           0.000000                 0.000000   \n",
       "25%         250.000000                31.000000   \n",
       "50%         305.000000                54.000000   \n",
       "75%         305.000000               100.000000   \n",
       "max       11030.000000              7933.000000   \n",
       "\n",
       "       agency_name_Buildings, Safety Engineering & Env Department  \\\n",
       "count                                      159573.000000            \n",
       "mean                                            0.600008            \n",
       "std                                             0.489898            \n",
       "min                                             0.000000            \n",
       "25%                                             0.000000            \n",
       "50%                                             1.000000            \n",
       "75%                                             1.000000            \n",
       "max                                             1.000000            \n",
       "\n",
       "       agency_name_Department of Public Works  \\\n",
       "count                           159573.000000   \n",
       "mean                                 0.327555   \n",
       "std                                  0.469323   \n",
       "min                                  0.000000   \n",
       "25%                                  0.000000   \n",
       "50%                                  0.000000   \n",
       "75%                                  1.000000   \n",
       "max                                  1.000000   \n",
       "\n",
       "       agency_name_Detroit Police Department  \\\n",
       "count                          159573.000000   \n",
       "mean                                0.027950   \n",
       "std                                 0.164829   \n",
       "min                                 0.000000   \n",
       "25%                                 0.000000   \n",
       "50%                                 0.000000   \n",
       "75%                                 0.000000   \n",
       "max                                 1.000000   \n",
       "\n",
       "       disposition_Responsible (Fine Waived) by Deter  \\\n",
       "count                                   159573.000000   \n",
       "mean                                         0.001178   \n",
       "std                                          0.034304   \n",
       "min                                          0.000000   \n",
       "25%                                          0.000000   \n",
       "50%                                          0.000000   \n",
       "75%                                          0.000000   \n",
       "max                                          1.000000   \n",
       "\n",
       "       disposition_Responsible by Admission  \\\n",
       "count                         159573.000000   \n",
       "mean                               0.085578   \n",
       "std                                0.279741   \n",
       "min                                0.000000   \n",
       "25%                                0.000000   \n",
       "50%                                0.000000   \n",
       "75%                                0.000000   \n",
       "max                                1.000000   \n",
       "\n",
       "       disposition_Responsible by Default  \\\n",
       "count                       159573.000000   \n",
       "mean                             0.865848   \n",
       "std                              0.340816   \n",
       "min                              0.000000   \n",
       "25%                              1.000000   \n",
       "50%                              1.000000   \n",
       "75%                              1.000000   \n",
       "max                              1.000000   \n",
       "\n",
       "       disposition_Responsible by Determination     compliance  \n",
       "count                             159573.000000  159573.000000  \n",
       "mean                                   0.047395       0.071585  \n",
       "std                                    0.212483       0.257800  \n",
       "min                                    0.000000       0.000000  \n",
       "25%                                    0.000000       0.000000  \n",
       "50%                                    0.000000       0.000000  \n",
       "75%                                    0.000000       0.000000  \n",
       "max                                    1.000000       1.000000  "
      ]
     },
     "execution_count": 16,
     "metadata": {},
     "output_type": "execute_result"
    }
   ],
   "source": [
    "train_df.describe()"
   ]
  },
  {
   "cell_type": "code",
   "execution_count": 17,
   "metadata": {},
   "outputs": [
    {
     "data": {
      "text/plain": [
       "disposition_Responsible by Default                           -0.333485\n",
       "late_fee                                                     -0.084197\n",
       "agency_name_Buildings, Safety Engineering & Env Department   -0.053683\n",
       "judgment_amount                                              -0.052883\n",
       "fine_amount                                                  -0.049497\n",
       "ticket_id                                                    -0.026394\n",
       "hearing_issue_date_diff                                      -0.004450\n",
       "violation_street_number                                      -0.002444\n",
       "agency_name_Detroit Police Department                         0.039042\n",
       "agency_name_Department of Public Works                        0.044820\n",
       "disposition_Responsible (Fine Waived) by Deter                0.123685\n",
       "discount_amount                                               0.144290\n",
       "disposition_Responsible by Determination                      0.199587\n",
       "disposition_Responsible by Admission                          0.239526\n",
       "compliance                                                    1.000000\n",
       "admin_fee                                                          NaN\n",
       "state_fee                                                          NaN\n",
       "clean_up_cost                                                      NaN\n",
       "Name: compliance, dtype: float64"
      ]
     },
     "execution_count": 17,
     "metadata": {},
     "output_type": "execute_result"
    }
   ],
   "source": [
    "train_df.corr()['compliance'].sort_values()"
   ]
  },
  {
   "cell_type": "markdown",
   "metadata": {},
   "source": [
    "<h4>admin_fee, state_fee, clean_up_cost all have same values</h4>"
   ]
  },
  {
   "cell_type": "markdown",
   "metadata": {},
   "source": [
    "<h3>Checking the highest correlated column</h3>"
   ]
  },
  {
   "cell_type": "code",
   "execution_count": 18,
   "metadata": {},
   "outputs": [
    {
     "data": {
      "image/png": "[encoded data removed]",
      "text/plain": [
       "<Figure size 720x360 with 4 Axes>"
      ]
     },
     "metadata": {
      "needs_background": "light"
     },
     "output_type": "display_data"
    }
   ],
   "source": [
    "fig, ax = plt.subplots(2,2, figsize=(10,5))\n",
    "\n",
    "ax[0,0].hist(train_df.loc[train_df['compliance'] == 0, 'disposition_Responsible by Admission'])\n",
    "ax[0,1].hist(train_df.loc[train_df['compliance'] == 1, 'disposition_Responsible by Admission'])\n",
    "\n",
    "ax[1,0].hist(train_df.loc[train_df['compliance'] == 0, 'disposition_Responsible by Default'])\n",
    "ax[1,1].hist(train_df.loc[train_df['compliance'] == 1, 'disposition_Responsible by Default'])\n",
    "\n",
    "ax[0,0].title.set_text('Compliance 0')\n",
    "ax[0,1].title.set_text('Compliance 1')"
   ]
  },
  {
   "cell_type": "code",
   "execution_count": 22,
   "metadata": {},
   "outputs": [],
   "source": [
    "train_ticket_id, test_ticket_id = train_df[['ticket_id']], test_df[['ticket_id']]\n",
    "\n",
    "y_train = train_df.copy()['compliance']\n",
    "X_train = train_df.copy().drop(columns=['ticket_id','compliance'])\n",
    "X_test = test_df.copy().drop(columns=['ticket_id'])\n",
    "\n",
    "features = list(X_train.columns)"
   ]
  },
  {
   "cell_type": "markdown",
   "metadata": {},
   "source": [
    "<h3>Trying Logistic Regression as baseline performance</h3>\n",
    "<br>Starting without any scaling or preprocessing</br>"
   ]
  },
  {
   "cell_type": "code",
   "execution_count": 23,
   "metadata": {},
   "outputs": [
    {
     "data": {
      "text/plain": [
       "array([0.05938928, 0.02090045, 0.05876388, ..., 0.0563989 , 0.05638769,\n",
       "       0.07975519])"
      ]
     },
     "execution_count": 23,
     "metadata": {},
     "output_type": "execute_result"
    }
   ],
   "source": [
    "from sklearn.linear_model import LogisticRegression\n",
    "\n",
    "lr = LogisticRegression()\n",
    "lr.fit(X_train, y_train)\n",
    "\n",
    "predict = lr.predict_proba(X_test)[:,1]\n",
    "predict"
   ]
  },
  {
   "cell_type": "code",
   "execution_count": 29,
   "metadata": {},
   "outputs": [
    {
     "name": "stderr",
     "output_type": "stream",
     "text": [
      "/anaconda3/lib/python3.7/site-packages/ipykernel_launcher.py:2: SettingWithCopyWarning: \n",
      "A value is trying to be set on a copy of a slice from a DataFrame.\n",
      "Try using .loc[row_indexer,col_indexer] = value instead\n",
      "\n",
      "See the caveats in the documentation: http://pandas.pydata.org/pandas-docs/stable/indexing.html#indexing-view-versus-copy\n",
      "  \n"
     ]
    },
    {
     "data": {
      "text/html": [
       "<div>\n",
       "<style scoped>\n",
       "    .dataframe tbody tr th:only-of-type {\n",
       "        vertical-align: middle;\n",
       "    }\n",
       "\n",
       "    .dataframe tbody tr th {\n",
       "        vertical-align: top;\n",
       "    }\n",
       "\n",
       "    .dataframe thead th {\n",
       "        text-align: right;\n",
       "    }\n",
       "</style>\n",
       "<table border=\"1\" class=\"dataframe\">\n",
       "  <thead>\n",
       "    <tr style=\"text-align: right;\">\n",
       "      <th></th>\n",
       "      <th>ticket_id</th>\n",
       "      <th>target</th>\n",
       "    </tr>\n",
       "  </thead>\n",
       "  <tbody>\n",
       "    <tr>\n",
       "      <th>0</th>\n",
       "      <td>284932</td>\n",
       "      <td>0.059389</td>\n",
       "    </tr>\n",
       "    <tr>\n",
       "      <th>1</th>\n",
       "      <td>285362</td>\n",
       "      <td>0.020900</td>\n",
       "    </tr>\n",
       "    <tr>\n",
       "      <th>2</th>\n",
       "      <td>285361</td>\n",
       "      <td>0.058764</td>\n",
       "    </tr>\n",
       "    <tr>\n",
       "      <th>3</th>\n",
       "      <td>285338</td>\n",
       "      <td>0.064504</td>\n",
       "    </tr>\n",
       "    <tr>\n",
       "      <th>4</th>\n",
       "      <td>285346</td>\n",
       "      <td>0.071685</td>\n",
       "    </tr>\n",
       "  </tbody>\n",
       "</table>\n",
       "</div>"
      ],
      "text/plain": [
       "   ticket_id    target\n",
       "0     284932  0.059389\n",
       "1     285362  0.020900\n",
       "2     285361  0.058764\n",
       "3     285338  0.064504\n",
       "4     285346  0.071685"
      ]
     },
     "execution_count": 29,
     "metadata": {},
     "output_type": "execute_result"
    }
   ],
   "source": [
    "results = test_ticket_id.iloc[:,:]\n",
    "results['target'] = predict\n",
    "\n",
    "results.head()"
   ]
  },
  {
   "cell_type": "code",
   "execution_count": 30,
   "metadata": {},
   "outputs": [],
   "source": [
    "# notes/things to do\n",
    "\n",
    "# target length should be 61001\n",
    "# check where rows were removed from x_test\n",
    "\n",
    "# how to get ruc score without true y_test"
   ]
  }
 ],
 "metadata": {
  "kernelspec": {
   "display_name": "Python 3",
   "language": "python",
   "name": "python3"
  },
  "language_info": {
   "codemirror_mode": {
    "name": "ipython",
    "version": 3
   },
   "file_extension": ".py",
   "mimetype": "text/x-python",
   "name": "python",
   "nbconvert_exporter": "python",
   "pygments_lexer": "ipython3",
   "version": "3.7.0"
  }
 },
 "nbformat": 4,
 "nbformat_minor": 2
}
